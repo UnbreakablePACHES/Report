{
  "cells": [
    {
      "cell_type": "markdown",
      "metadata": {
        "id": "view-in-github",
        "colab_type": "text"
      },
      "source": [
        "<a href=\"https://colab.research.google.com/github/UnbreakablePACHES/Report/blob/main/Report.ipynb\" target=\"_parent\"><img src=\"https://colab.research.google.com/assets/colab-badge.svg\" alt=\"Open In Colab\"/></a>"
      ]
    },
    {
      "cell_type": "code",
      "execution_count": null,
      "metadata": {
        "colab": {
          "base_uri": "https://localhost:8080/",
          "height": 104
        },
        "id": "WuzvoBc3GHhP",
        "outputId": "445599e7-c11c-4d6f-804a-b225c82781a0"
      },
      "outputs": [
        {
          "output_type": "stream",
          "name": "stdout",
          "text": [
            "[0.91  1.5   0.555 1.6  ]\n"
          ]
        },
        {
          "output_type": "display_data",
          "data": {
            "text/plain": [
              "matrix([[ 1.  , -0.16,  0.25,  0.09],\n",
              "        [-0.16,  1.  ,  0.04,  0.64],\n",
              "        [ 0.25,  0.04,  1.  ,  0.57],\n",
              "        [ 0.09,  0.64,  0.57,  1.  ]])"
            ]
          },
          "metadata": {}
        }
      ],
      "source": [
        "import numpy as np\n",
        "import scipy.optimize as opt\n",
        "import math\n",
        "\n",
        "# 基本ポートフォリオ\n",
        "allocation = np.array([0.35,0.25,0.15,0.25])\n",
        "\n",
        "# 期待リターン\n",
        "exp_return = np.array([2.6,6,3.7,6.4])\n",
        "\n",
        "print(allocation * exp_return)\n",
        "\n",
        "# リスク\n",
        "risk = np.array([[4.7,25.1,12.6,27.3]])\n",
        "\n",
        "\n",
        "\n",
        "# 相関係数\n",
        "R = np.mat([[1,-0.16,0.25,0.09],[-0.16,1,0.04,0.64],[0.25,0.04,1,0.57],[0.09,0.64,0.57,1]])\n",
        "display(R)"
      ]
    },
    {
      "cell_type": "code",
      "execution_count": null,
      "metadata": {
        "colab": {
          "base_uri": "https://localhost:8080/",
          "height": 191
        },
        "id": "zPnoHFNeJa0H",
        "outputId": "5e6bba0a-cb2b-4897-f86e-b767b2fbe8d9"
      },
      "outputs": [
        {
          "output_type": "display_data",
          "data": {
            "text/plain": [
              "matrix([[ 4.7,  0. ,  0. ,  0. ],\n",
              "        [ 0. , 25.1,  0. ,  0. ],\n",
              "        [ 0. ,  0. , 12.6,  0. ],\n",
              "        [ 0. ,  0. ,  0. , 27.3]])"
            ]
          },
          "metadata": {}
        },
        {
          "output_type": "display_data",
          "data": {
            "text/plain": [
              "matrix([[ 22.09  , -18.8752,  14.805 ,  11.5479],\n",
              "        [-18.8752, 630.01  ,  12.6504, 438.5472],\n",
              "        [ 14.805 ,  12.6504, 158.76  , 196.0686],\n",
              "        [ 11.5479, 438.5472, 196.0686, 745.29  ]])"
            ]
          },
          "metadata": {}
        },
        {
          "output_type": "stream",
          "name": "stdout",
          "text": [
            "[[162.9789475]]\n",
            "162.97894750000006\n"
          ]
        }
      ],
      "source": [
        "# 標準偏差行列を対角行列にする\n",
        "D = np.mat([[4.7,0,0,0],\n",
        "       [0,25.1,0,0],\n",
        "       [0,0,12.6,0],\n",
        "       [0,0,0,27.3]])\n",
        "display(D)\n",
        "\n",
        "# 共分散行列を計算する\n",
        "Cov = D*R*D\n",
        "display(Cov) \n",
        "\n",
        "d = allocation * Cov * np.array([allocation]).T\n",
        "print(d)\n",
        "\n",
        "# scalarにする\n",
        "e = np.sum(d)\n",
        "print(e)\n"
      ]
    },
    {
      "cell_type": "code",
      "execution_count": null,
      "metadata": {
        "colab": {
          "base_uri": "https://localhost:8080/"
        },
        "id": "HXp_Rz6OKPdb",
        "outputId": "2c1ee975-78e1-4055-e6d8-2445ab59b843"
      },
      "outputs": [
        {
          "output_type": "stream",
          "name": "stdout",
          "text": [
            " message: Optimization terminated successfully\n",
            " success: True\n",
            "  status: 0\n",
            "     fun: 19.569981106367923\n",
            "       x: [ 9.103e-01  5.644e-02  3.150e-02  1.719e-03]\n",
            "     nit: 5\n",
            "     jac: [ 3.906e+01  3.906e+01  3.906e+01  8.545e+01]\n",
            "    nfev: 28\n",
            "    njev: 5\n",
            "[0.91033267 0.0564444  0.03150418 0.00171875]\n"
          ]
        }
      ],
      "source": [
        "# レポート課題１\n",
        "# 分散最小化モデル\n",
        "def objective(w):\n",
        "  return w * Cov * np.array([w]).T\n",
        "\n",
        "# 要求収益率制約\n",
        "def constraint_1(w):\n",
        "  return w * exp_return \n",
        "\n",
        "\n",
        "# 空売り禁止制約と予算制約\n",
        "cons=({'type':'eq','fun':lambda x: np.sum(x) - 1},\n",
        "   {'type':'ineq','fun':lambda x: constraint_1(x) - 0.011},\n",
        "   {'type':'ineq','fun':lambda x: x[0]},\n",
        "   {'type':'ineq','fun':lambda x: x[1]},\n",
        "   {'type':'ineq','fun':lambda x: x[2]},\n",
        "   {'type':'ineq','fun':lambda x: x[3]})\n",
        "\n",
        "# scipyで最適解を求める\n",
        "res=opt.minimize(objective, np.array([0.25,0.25,0.25,0.25]),  method='SLSQP', \n",
        "                 constraints = cons)\n",
        "print(res)\n",
        "\n",
        "w_1 = res.x\n",
        "print(w_1)"
      ]
    },
    {
      "cell_type": "code",
      "execution_count": null,
      "metadata": {
        "colab": {
          "base_uri": "https://localhost:8080/"
        },
        "id": "2SRGVLnUY5J-",
        "outputId": "a2c48bca-3bcd-47d9-f33a-22611599369b"
      },
      "outputs": [
        {
          "output_type": "stream",
          "name": "stdout",
          "text": [
            " message: Optimization terminated successfully\n",
            " success: True\n",
            "  status: 0\n",
            "     fun: 9.6499961139895\n",
            "       x: [ 5.000e-01 -4.119e-14  2.500e-01  2.500e-01]\n",
            "     nit: 2\n",
            "     jac: [ 1.827e+00  1.071e+01  9.960e+00  2.499e+01]\n",
            "    nfev: 10\n",
            "    njev: 2\n",
            "[ 5.00000000e-01 -4.11892742e-14  2.50000000e-01  2.50000000e-01]\n"
          ]
        }
      ],
      "source": [
        "# レポート課題２\n",
        "# シャープレシオ最大化モデル\n",
        "\n",
        "R_f = 0.011\n",
        "\n",
        "sigma_y = None\n",
        "# 目的関数\n",
        "def objective(w):\n",
        "  \n",
        "  y_0 = 1/(exp_return * w - R_f)\n",
        "  y = w * y_0\n",
        "  obj = math.sqrt(w * Cov * np.array([w]).T) \n",
        "  return np.sum(obj)\n",
        "\n",
        "\n",
        "# 制約条件\n",
        "cons=({'type':'eq','fun':lambda x: np.sum(x) - 1},\n",
        "   {'type':'ineq','fun':lambda x: x[0]},\n",
        "   {'type':'ineq','fun':lambda x: x[1]},\n",
        "   {'type':'ineq','fun':lambda x: x[2]},\n",
        "   {'type':'ineq','fun':lambda x: x[3]},\n",
        "   # 50%制約\n",
        "   {'type':'ineq','fun':lambda x: x[2] + x[3] - x[0] - x[1] },\n",
        "   # 外国債券より外国株式少ない\n",
        "   {'type':'ineq','fun':lambda x: x[3] - x[2]})\n",
        "\n",
        "res=opt.minimize(objective, np.array([0,0,0.75,0.25]),  method='SLSQP', \n",
        "                 constraints = cons)\n",
        "print(res)\n",
        "\n",
        "y_i = res.x\n",
        "\n",
        "sigma_y = np.sum(y_i)\n",
        "\n",
        "w_2 = y_i / sigma_y\n",
        "\n",
        "print(w_2)\n"
      ]
    },
    {
      "cell_type": "code",
      "execution_count": null,
      "metadata": {
        "colab": {
          "base_uri": "https://localhost:8080/"
        },
        "id": "HIugAYcatKKb",
        "outputId": "d63c194e-e7cb-4f8f-9d0b-6a1aec766d6a"
      },
      "outputs": [
        {
          "output_type": "stream",
          "name": "stdout",
          "text": [
            " message: Optimization terminated successfully\n",
            " success: True\n",
            "  status: 0\n",
            "     fun: 12.766320828661138\n",
            "       x: [ 3.500e-01  2.500e-01  1.500e-01  2.500e-01]\n",
            "     nit: 2\n",
            "     jac: [ 6.361e-01  2.056e+01  6.359e+00  2.580e+01]\n",
            "    nfev: 10\n",
            "    njev: 2\n",
            "[0.35 0.25 0.15 0.25]\n"
          ]
        }
      ],
      "source": [
        "# レポート課題3\n",
        "# シャープレシオ最大化モデル\n",
        "\n",
        "R_f = 0.011\n",
        "\n",
        "sigma_y = None\n",
        "# 目的関数\n",
        "def objective(w):\n",
        "  \n",
        "  y_0 = 1/(exp_return * w - R_f)\n",
        "  y = w * y_0\n",
        "  obj = math.sqrt(w * Cov * np.array([w]).T) \n",
        "  return np.sum(obj)\n",
        "\n",
        "\n",
        "# 制約条件\n",
        "cons=({'type':'eq','fun':lambda x: np.sum(x) - 1},\n",
        "   {'type':'ineq','fun':lambda x: x[0]},\n",
        "   {'type':'ineq','fun':lambda x: x[1]},\n",
        "   {'type':'ineq','fun':lambda x: x[2]},\n",
        "   {'type':'ineq','fun':lambda x: x[3]},\n",
        "\n",
        "   \n",
        "   # 国内株式と外国株式が等しい\n",
        "   {'type':'eq','fun':lambda x: x[1] - x[3]},\n",
        "   # 債券は少なくとも50％\n",
        "   {'type':'ineq','fun':lambda x: -x[0] - x[2] + 0.5},\n",
        "   # 外国資産は少なくとも40％\n",
        "   {'type':'ineq','fun':lambda x: x[2] + x[3] - 0.4})\n",
        "   \n",
        "   \n",
        "\n",
        "res=opt.minimize(objective, np.array([0,0,0.75,0.25]),  method='SLSQP', \n",
        "                 constraints = cons)\n",
        "print(res)\n",
        "\n",
        "y_i = res.x\n",
        "\n",
        "sigma_y = np.sum(y_i)\n",
        "\n",
        "w_2 = y_i / sigma_y\n",
        "\n",
        "print(w_2)\n"
      ]
    }
  ],
  "metadata": {
    "colab": {
      "provenance": [],
      "authorship_tag": "ABX9TyNNSgcgp+KS90szMf1H+GvN",
      "include_colab_link": true
    },
    "kernelspec": {
      "display_name": "Python 3",
      "name": "python3"
    },
    "language_info": {
      "name": "python"
    }
  },
  "nbformat": 4,
  "nbformat_minor": 0
}